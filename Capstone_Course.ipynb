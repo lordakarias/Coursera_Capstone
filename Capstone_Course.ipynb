{
  "nbformat": 4,
  "nbformat_minor": 0,
  "metadata": {
    "colab": {
      "name": "Capstone Course.ipynb",
      "provenance": [],
      "authorship_tag": "ABX9TyOqoYHK0PzqXrMikZvdYZO0",
      "include_colab_link": true
    },
    "kernelspec": {
      "name": "python3",
      "display_name": "Python 3"
    }
  },
  "cells": [
    {
      "cell_type": "markdown",
      "metadata": {
        "id": "view-in-github",
        "colab_type": "text"
      },
      "source": [
        "<a href=\"https://colab.research.google.com/github/lordakarias/Coursera_Capstone/blob/master/Capstone_Course.ipynb\" target=\"_parent\"><img src=\"https://colab.research.google.com/assets/colab-badge.svg\" alt=\"Open In Colab\"/></a>"
      ]
    },
    {
      "cell_type": "markdown",
      "metadata": {
        "id": "_yZJC2EfryRx"
      },
      "source": [
        "This Notebook will be used for coursera Capstone project for IBM Applied Data Science Capstone course"
      ]
    },
    {
      "cell_type": "code",
      "metadata": {
        "id": "D0R3pGVRr9vK"
      },
      "source": [
        "import pandas as pd\n",
        "import numpy as np"
      ],
      "execution_count": null,
      "outputs": []
    },
    {
      "cell_type": "markdown",
      "metadata": {
        "id": "Vm8oP49xtwWK"
      },
      "source": [
        "Hello Capstone Project Course!"
      ]
    },
    {
      "cell_type": "code",
      "metadata": {
        "id": "R1qFoMettyGg"
      },
      "source": [
        ""
      ],
      "execution_count": null,
      "outputs": []
    }
  ]
}